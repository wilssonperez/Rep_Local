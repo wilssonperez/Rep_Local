{
  "nbformat": 4,
  "nbformat_minor": 0,
  "metadata": {
    "colab": {
      "provenance": [],
      "authorship_tag": "ABX9TyOtqS4P01WymyQTJsU8QGcP",
      "include_colab_link": true
    },
    "kernelspec": {
      "name": "python3",
      "display_name": "Python 3"
    },
    "language_info": {
      "name": "python"
    }
  },
  "cells": [
    {
      "cell_type": "markdown",
      "metadata": {
        "id": "view-in-github",
        "colab_type": "text"
      },
      "source": [
        "<a href=\"https://colab.research.google.com/github/wilssonperez/Rep_Local/blob/main/CoordenadasCoolab.ipynb\" target=\"_parent\"><img src=\"https://colab.research.google.com/assets/colab-badge.svg\" alt=\"Open In Colab\"/></a>"
      ]
    },
    {
      "cell_type": "markdown",
      "source": [
        "Programa para realizar conversión de coordenadas entre diferentes sistemas"
      ],
      "metadata": {
        "id": "Bv2skbXY13rR"
      }
    },
    {
      "cell_type": "code",
      "source": [
        "import pyproj\n",
        "from pyproj import Transformer\n",
        "\n",
        "# Pedir al usuario que ingrese los números EPSG\n",
        "inProj_num = input(\"Ingrese el número EPSG del sistema de coordenadas de origen: \")\n",
        "outProj_num = input(\"Ingrese el número EPSG del sistema de coordenadas de destino: \")\n",
        "# Por ejemplo:\n",
        "# EPSG WGS84 (Google Earth) = 4326\n",
        "# EPSG Magna-Sirgas Colombia West Zone = 3115\n",
        "# EPSG Magna-Sirgas Colombia Bogotá zone = 3116\n",
        "# EPSG Magna Sirgas Colombia Origen Nacional = 9377\n",
        "\n",
        "# Crear los códigos EPSG completos\n",
        "inProj_str = \"EPSG:\" + inProj_num\n",
        "outProj_str = \"EPSG:\" + outProj_num\n",
        "\n",
        "# Crear objetos CRS con los códigos EPSG\n",
        "inProj = pyproj.CRS(inProj_str)\n",
        "outProj = pyproj.CRS(outProj_str)\n",
        "\n",
        "# Crear un objeto Transformer\n",
        "transformer = Transformer.from_crs(inProj, outProj)\n",
        "\n",
        "# Pedir al usuario que ingrese las coordenadas como un string\n",
        "coordenadas_str = input(\"Ingrese las coordenadas XY separadas con punto y coma, si hay mas de una pareja de coordenadas, separelas \\ncon un espacio o con un salto de línea (ejemplo: X1;Y1 X2;Y2 X3;Y3) \")\n",
        "\n",
        "# Convertir el string en una lista de listas\n",
        "coordenadas = [tuple(map(float, coord.split(';'))) for coord in coordenadas_str.split(' ')]\n",
        "\n",
        "# Convertir todas las coordenadas y guardar los resultados\n",
        "converted_coordinates = []\n",
        "for lat, lon in coordenadas:\n",
        "    y, x = transformer.transform(lon, lat)\n",
        "    converted_coordinates.append((x, y))\n",
        "\n",
        "# Imprimir los resultados\n",
        "print(f\"\\nConversión de coordenadas [Este (X), Norte(Y)]: \")\n",
        "for x, y in converted_coordinates:\n",
        "    print(f\"{x}, {y}\")\n"
      ],
      "metadata": {
        "colab": {
          "base_uri": "https://localhost:8080/"
        },
        "id": "YbCpggq47-cy",
        "outputId": "47633721-06c8-4c52-849c-fcb43e9dd634"
      },
      "execution_count": 16,
      "outputs": [
        {
          "output_type": "stream",
          "name": "stdout",
          "text": [
            "Ingrese el número EPSG del sistema de coordenadas de origen: 4326\n",
            "Ingrese el número EPSG del sistema de coordenadas de destino: 3115\n",
            "Ingrese las coordenadas XY separadas con punto y coma, si hay mas de una pareja de coordenadas, separelas \n",
            "con un espacio o con un salto de línea (ejemplo: X1;Y1 X2;Y2 X3;Y3) -76.466865;3.558631 -76.534343;3.634343 -76.434343;3.523232\n",
            "\n",
            "Conversión de coordenadas [Este (X), Norte(Y)]: \n",
            "1067847.5447126706, 885288.0991890791\n",
            "1060344.9561180363, 893655.9193799912\n",
            "1071463.8733130454, 881375.9383133921\n"
          ]
        }
      ]
    },
    {
      "cell_type": "markdown",
      "source": [],
      "metadata": {
        "id": "oU7hGfHt8eQa"
      }
    }
  ]
}